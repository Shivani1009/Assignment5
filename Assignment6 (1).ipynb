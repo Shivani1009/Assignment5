{
 "cells": [
  {
   "cell_type": "markdown",
   "id": "a32800aa-f3a8-433a-89f9-1d1ec955239d",
   "metadata": {},
   "source": [
    "Q1. Explain Class and Object with respect to Object-Oriented Programming. Give a suitable example."
   ]
  },
  {
   "cell_type": "markdown",
   "id": "2fad50cd-5b93-4f38-8fa5-9bc5c494b82b",
   "metadata": {},
   "source": [
    "Class − A class can be defined as a template/blueprint that describes the behavior/state that the object of its type support.\n",
    "Object − Objects have states and behaviors.  An object is an instance of a class."
   ]
  },
  {
   "cell_type": "code",
   "execution_count": 4,
   "id": "bc4d94d8-639e-4307-b5e4-ba915bf1dd78",
   "metadata": {},
   "outputs": [],
   "source": [
    "#created a class\n",
    "\n",
    "class pwskills:\n",
    "    def welcome_msg(self):\n",
    "        print('this is welcome to all')"
   ]
  },
  {
   "cell_type": "code",
   "execution_count": 5,
   "id": "78ae1973-483f-4a66-a307-11347a0915c2",
   "metadata": {},
   "outputs": [
    {
     "name": "stdout",
     "output_type": "stream",
     "text": [
      "this is welcome to all\n"
     ]
    }
   ],
   "source": [
    "#created a object for class\n",
    "\n",
    "pw=pwskills()\n",
    "pw.welcome_msg()"
   ]
  },
  {
   "cell_type": "markdown",
   "id": "65466fd8-21e6-402f-bc5b-81975d74f4c9",
   "metadata": {},
   "source": [
    "Q2. Name the four pillars of OOPs."
   ]
  },
  {
   "cell_type": "markdown",
   "id": "d38bc0e5-c746-4d1d-a7a1-7f74b0d46601",
   "metadata": {},
   "source": [
    "The Four pillars of OOPs:\n",
    "\n",
    "Abstraction\n",
    "\n",
    "Encapsulation\n",
    "\n",
    "Inheritance\n",
    "\n",
    "Polymorphism"
   ]
  },
  {
   "cell_type": "markdown",
   "id": "703ff1c0-8366-4fb8-945d-f1c839b24c3a",
   "metadata": {},
   "source": [
    "Q3. Explain why the __init__() function is used. Give a suitable example."
   ]
  },
  {
   "cell_type": "markdown",
   "id": "42b40ab8-1dad-4743-b6ef-5faeb38499a7",
   "metadata": {},
   "source": [
    " __init__ is a special python method that runs whenever a new object is created. These types of functions are used to initialize the attributes of that class."
   ]
  },
  {
   "cell_type": "code",
   "execution_count": 7,
   "id": "f36b03d9-9266-454a-a377-398bc9fbd37d",
   "metadata": {},
   "outputs": [],
   "source": [
    "#Example\n",
    "\n",
    "class pwskills1:\n",
    "    def __init__(self, student_mail_id, mobile_number):\n",
    "        self.student_mail_id=student_mail_id\n",
    "        self.mobile_number=mobile_number\n",
    "        \n",
    "    def return_student_details(self):\n",
    "        return self.student_mail_id, self.mobile_number"
   ]
  },
  {
   "cell_type": "code",
   "execution_count": 8,
   "id": "3c138c97-b069-445d-b062-0f2fd1f50c46",
   "metadata": {},
   "outputs": [],
   "source": [
    "ram=pwskills1('ram@gmail.com',9872365425)"
   ]
  },
  {
   "cell_type": "code",
   "execution_count": 10,
   "id": "df9968e5-1db1-43a3-9350-e72f01f708a0",
   "metadata": {},
   "outputs": [
    {
     "data": {
      "text/plain": [
       "('ram@gmail.com', 9872365425)"
      ]
     },
     "execution_count": 10,
     "metadata": {},
     "output_type": "execute_result"
    }
   ],
   "source": [
    "ram.return_student_details()"
   ]
  },
  {
   "cell_type": "markdown",
   "id": "22974e33-8eb7-49d3-abd9-f97439a64e92",
   "metadata": {},
   "source": [
    "Q4. Why self is used in OOPs?"
   ]
  },
  {
   "cell_type": "markdown",
   "id": "5753a60a-8cd1-43f6-82b7-a32ada2129d8",
   "metadata": {},
   "source": [
    "self represents the instance of the class. By using the “self” we can access the attributes and methods of the class in python. It binds the attributes with the given arguments. The reason you need to use self. is because Python does not use the @ syntax to refer to instance attributes."
   ]
  },
  {
   "cell_type": "code",
   "execution_count": 11,
   "id": "d52939c8-0df3-47b1-bcbf-db9f8d0e5de2",
   "metadata": {},
   "outputs": [
    {
     "name": "stdout",
     "output_type": "stream",
     "text": [
      "hello world\n"
     ]
    }
   ],
   "source": [
    "#example\n",
    "\n",
    "class hello:\n",
    "    def welcome_msg1(self):\n",
    "        print('hello world')\n",
    "        \n",
    "        \n",
    "x=hello()\n",
    "x.welcome_msg1()"
   ]
  },
  {
   "cell_type": "markdown",
   "id": "276bd75f-0f70-4071-b6d4-90ddb0135e26",
   "metadata": {},
   "source": [
    "Q5. What is inheritance? Give an example for each type of inheritance."
   ]
  },
  {
   "cell_type": "markdown",
   "id": "12609304-82e8-486b-b015-b23b121be31b",
   "metadata": {},
   "source": [
    "Inheritance is a mechanism in which one class acquires the property of another class.\n",
    "\n",
    "Types of inheritance are:"
   ]
  },
  {
   "cell_type": "code",
   "execution_count": 12,
   "id": "f31b914e-80c6-4293-b446-019b4b881a80",
   "metadata": {},
   "outputs": [
    {
     "name": "stdout",
     "output_type": "stream",
     "text": [
      "This function is in parent class.\n",
      "This function is in child class.\n"
     ]
    }
   ],
   "source": [
    "#1. Single Inheritance: \n",
    "\n",
    "# main class\n",
    "class Parent:\n",
    "    def func1(self):\n",
    "        print(\"This function is in parent class.\")\n",
    " #child class       \n",
    "class Child(Parent):\n",
    "    def func2(self):\n",
    "        print(\"This function is in child class.\")\n",
    " \n",
    " \n",
    "\n",
    "object = Child()\n",
    "object.func1()\n",
    "object.func2()"
   ]
  },
  {
   "cell_type": "code",
   "execution_count": 13,
   "id": "8bdbdf45-102e-4c80-a93c-90aa3121b126",
   "metadata": {},
   "outputs": [
    {
     "name": "stdout",
     "output_type": "stream",
     "text": [
      "Father : RAM\n",
      "Mother : SITA\n"
     ]
    }
   ],
   "source": [
    "#2. Multiple Inheritance: \n",
    "#base class1\n",
    "class Mother:\n",
    "    mothername = \"\"\n",
    " \n",
    "    def mother(self):\n",
    "        print(self.mothername)\n",
    " \n",
    " #base class2\n",
    "class Father:\n",
    "    fathername = \"\"\n",
    " \n",
    "    def father(self):\n",
    "        print(self.fathername)\n",
    " \n",
    " #child class\n",
    "class Son(Mother, Father):\n",
    "    def parents(self):\n",
    "        print(\"Father :\", self.fathername)\n",
    "        print(\"Mother :\", self.mothername)\n",
    " \n",
    " \n",
    "\n",
    "s1 = Son()\n",
    "s1.fathername = \"RAM\"\n",
    "s1.mothername = \"SITA\"\n",
    "s1.parents()"
   ]
  },
  {
   "cell_type": "code",
   "execution_count": 14,
   "id": "4a80faf8-764c-43fb-a248-8c9dc8427608",
   "metadata": {},
   "outputs": [
    {
     "name": "stdout",
     "output_type": "stream",
     "text": [
      "Lal mani\n",
      "Grandfather name : Lal mani\n",
      "Father name : Rampal\n",
      "Son name : Prince\n"
     ]
    }
   ],
   "source": [
    "#3. Multilevel Inheritance :\n",
    "#base class\n",
    "class Grandfather:\n",
    " \n",
    "    def __init__(self, grandfathername):\n",
    "        self.grandfathername = grandfathername\n",
    " \n",
    " #intermediate class\n",
    "class Father(Grandfather):\n",
    "    def __init__(self, fathername, grandfathername):\n",
    "        self.fathername = fathername\n",
    " \n",
    " # invoking grandfather class      \n",
    "        Grandfather.__init__(self, grandfathername)\n",
    "\n",
    " \n",
    " #child class \n",
    "class Son(Father):\n",
    "    def __init__(self, sonname, fathername, grandfathername):\n",
    "        self.sonname = sonname\n",
    " \n",
    " # invoking constructor of Father class\n",
    "        Father.__init__(self, fathername, grandfathername)\n",
    " \n",
    "    def print_name(self):\n",
    "        print('Grandfather name :', self.grandfathername)\n",
    "        print(\"Father name :\", self.fathername)\n",
    "        print(\"Son name :\", self.sonname)\n",
    " \n",
    " \n",
    "#  objects\n",
    "s1 = Son('Prince', 'Rampal', 'Lal mani')\n",
    "print(s1.grandfathername)\n",
    "s1.print_name()"
   ]
  },
  {
   "cell_type": "code",
   "execution_count": 15,
   "id": "3d8cf441-d696-4732-9100-07580a9dde76",
   "metadata": {},
   "outputs": [
    {
     "name": "stdout",
     "output_type": "stream",
     "text": [
      "This function is in parent class.\n",
      "This function is in child 1.\n",
      "This function is in parent class.\n",
      "This function is in child 2.\n"
     ]
    }
   ],
   "source": [
    "#4. Hierarchical Inheritance: \n",
    "\n",
    "# Base class\n",
    "class Parent:\n",
    "    def func1(self):\n",
    "        print(\"This function is in parent class.\")\n",
    " \n",
    " #child class1\n",
    "class Child1(Parent):\n",
    "    def func2(self):\n",
    "        print(\"This function is in child 1.\")\n",
    " \n",
    " #child class2\n",
    "class Child2(Parent):\n",
    "    def func3(self):\n",
    "        print(\"This function is in child 2.\")\n",
    " \n",
    " \n",
    "# objects\n",
    "object1 = Child1()\n",
    "object2 = Child2()\n",
    "object1.func1()\n",
    "object1.func2()\n",
    "object2.func1()\n",
    "object2.func3()"
   ]
  },
  {
   "cell_type": "code",
   "execution_count": 17,
   "id": "9b3b3fd3-9e0c-4644-a5be-c7f46e5017cc",
   "metadata": {},
   "outputs": [
    {
     "name": "stdout",
     "output_type": "stream",
     "text": [
      "This function is in school.\n",
      "This function is in student 1. \n"
     ]
    }
   ],
   "source": [
    "#5. Hybrid Inheritance: \n",
    "\n",
    " \n",
    "class School:\n",
    "    def func1(self):\n",
    "        print(\"This function is in school.\")\n",
    " \n",
    " \n",
    "class Student1(School):\n",
    "    def func2(self):\n",
    "        print(\"This function is in student 1. \")\n",
    " \n",
    " \n",
    "class Student2(School):\n",
    "    def func3(self):\n",
    "        print(\"This function is in student 2.\")\n",
    " \n",
    " \n",
    "class Student3(Student1, School):\n",
    "    def func4(self):\n",
    "        print(\"This function is in student 3.\")\n",
    " \n",
    " \n",
    "# objects\n",
    "object = Student3()\n",
    "object.func1()\n",
    "object.func2()"
   ]
  },
  {
   "cell_type": "code",
   "execution_count": null,
   "id": "7c8fb555-dfe3-41cf-846e-8b2102aa9bea",
   "metadata": {},
   "outputs": [],
   "source": []
  },
  {
   "cell_type": "code",
   "execution_count": null,
   "id": "e703f073-d71b-45c4-aaa3-d90cfc2ddb3b",
   "metadata": {},
   "outputs": [],
   "source": []
  }
 ],
 "metadata": {
  "kernelspec": {
   "display_name": "Python 3 (ipykernel)",
   "language": "python",
   "name": "python3"
  },
  "language_info": {
   "codemirror_mode": {
    "name": "ipython",
    "version": 3
   },
   "file_extension": ".py",
   "mimetype": "text/x-python",
   "name": "python",
   "nbconvert_exporter": "python",
   "pygments_lexer": "ipython3",
   "version": "3.10.8"
  }
 },
 "nbformat": 4,
 "nbformat_minor": 5
}
