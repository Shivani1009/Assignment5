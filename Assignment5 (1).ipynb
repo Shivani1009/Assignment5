{
 "cells": [
  {
   "cell_type": "markdown",
   "id": "715bfa04-c107-460d-bf3c-0afbfa36f435",
   "metadata": {},
   "source": [
    "Q1, Create a vehicle class with an init method having instance variables as name_of_vehicle, max_speed\n",
    "and average_of_vehicle."
   ]
  },
  {
   "cell_type": "code",
   "execution_count": 1,
   "id": "5850e96b-6eeb-4838-a26c-80fe704f80a9",
   "metadata": {},
   "outputs": [],
   "source": [
    "class vehicle:\n",
    "    \n",
    "    def __init__(self, name_of_vehicle, max_speed, average_of_vehicle):\n",
    "        self.name_of_vehicle=name_of_vehicle\n",
    "        self.max_speed=max_speed\n",
    "        self.average_of_vehicle=average_of_vehicle\n",
    "        \n",
    "    def return_vehicles_details(self):\n",
    "        return self.name_of_vehicle, self.max_speed, self.average_of_vehicle\n",
    "        "
   ]
  },
  {
   "cell_type": "code",
   "execution_count": 2,
   "id": "b2144d25-cb18-4ba7-a454-d512001ad970",
   "metadata": {},
   "outputs": [
    {
     "data": {
      "text/plain": [
       "('royal_enfield', 200, 30)"
      ]
     },
     "execution_count": 2,
     "metadata": {},
     "output_type": "execute_result"
    }
   ],
   "source": [
    "bullet=vehicle('royal_enfield',200,30)\n",
    "\n",
    "bullet.return_vehicles_details()"
   ]
  },
  {
   "cell_type": "markdown",
   "id": "a5e63181-f532-4362-b90d-e6fed5942f88",
   "metadata": {},
   "source": [
    "Q2. Create a child class car from the vehicle class created in Que 1, which will inherit the vehicle class.\n",
    "Create a method named seating_capacity which takes capacity as an argument and returns the name of\n",
    "the vehicle and its seating capacity."
   ]
  },
  {
   "cell_type": "code",
   "execution_count": 3,
   "id": "72147211-8e86-4c2e-95a4-776f623b9b3f",
   "metadata": {},
   "outputs": [
    {
     "name": "stdout",
     "output_type": "stream",
     "text": [
      "Vehicle Name: tata_nexon seating_capacity: 5\n"
     ]
    }
   ],
   "source": [
    "class Vehicle:\n",
    "\n",
    "    def __init__(self, name, seating_capacity):\n",
    "        self.name = name\n",
    "        self.seating_capacity=seating_capacity\n",
    "\n",
    "class car(Vehicle):\n",
    "    pass\n",
    "\n",
    "Car= car(\"tata_nexon\",5)\n",
    "print(\"Vehicle Name:\", Car.name, \"seating_capacity:\" ,Car.seating_capacity)"
   ]
  },
  {
   "cell_type": "markdown",
   "id": "f4a52d26-e1b3-4bb5-aefc-ce388a841219",
   "metadata": {},
   "source": [
    "Q3. What is multiple inheritance? Write a python code to demonstrate multiple inheritance."
   ]
  },
  {
   "cell_type": "markdown",
   "id": "c47f326f-a0df-45d6-ba78-584340d81731",
   "metadata": {},
   "source": [
    "A class can be derived from more than one superclass in Python. This is called multiple inheritance."
   ]
  },
  {
   "cell_type": "code",
   "execution_count": 6,
   "id": "80df0208-c81d-4882-b9a0-166f99ca35d1",
   "metadata": {},
   "outputs": [],
   "source": [
    "#Example of multiple inheritance.\n",
    "\n",
    "class class1:\n",
    "    def class_meth1(self):\n",
    "        return 'this is from meth of class1'\n",
    "    \n",
    "class class2:\n",
    "    def class_meth2(self):\n",
    "        return 'this is from meth of class 2'\n",
    "\n",
    "class class3(class2,class1):\n",
    "    pass\n",
    "    "
   ]
  },
  {
   "cell_type": "code",
   "execution_count": 8,
   "id": "5c0f1342-4086-4d8a-aa72-485d0193c10b",
   "metadata": {},
   "outputs": [],
   "source": [
    "obj_class3=class3()"
   ]
  },
  {
   "cell_type": "code",
   "execution_count": 9,
   "id": "b35dfbee-b7ae-4c11-bf03-89a9c0a80204",
   "metadata": {},
   "outputs": [
    {
     "data": {
      "text/plain": [
       "'this is from meth of class1'"
      ]
     },
     "execution_count": 9,
     "metadata": {},
     "output_type": "execute_result"
    }
   ],
   "source": [
    "obj_class3.class_meth1()"
   ]
  },
  {
   "cell_type": "code",
   "execution_count": 11,
   "id": "c3c54304-474b-4677-9793-675e6529d81f",
   "metadata": {},
   "outputs": [
    {
     "data": {
      "text/plain": [
       "'this is from meth of class 2'"
      ]
     },
     "execution_count": 11,
     "metadata": {},
     "output_type": "execute_result"
    }
   ],
   "source": [
    "obj_class3.class_meth2()"
   ]
  },
  {
   "cell_type": "markdown",
   "id": "48c0cfd5-20b8-4206-96b2-f818c9afef0f",
   "metadata": {},
   "source": [
    "Q4. What are getter and setter in python? Create a class and create a getter and a setter method in this\n",
    "class."
   ]
  },
  {
   "cell_type": "markdown",
   "id": "64799bf1-e835-452b-9e74-40566ef56d20",
   "metadata": {},
   "source": [
    "Getter: A method that allows you to access an attribute in a given class\n",
    "Setter: A method that allows you to set or mutate the value of an attribute in a class"
   ]
  },
  {
   "cell_type": "code",
   "execution_count": 12,
   "id": "7f3fa608-f500-4960-91ea-06c291c8fcbe",
   "metadata": {},
   "outputs": [],
   "source": [
    "class Label:\n",
    "    def __init__(self, text, font):\n",
    "        self._text = text\n",
    "        self._font = font\n",
    "\n",
    "    def get_text(self):\n",
    "        return self._text\n",
    "\n",
    "    def set_text(self, value):\n",
    "        self._text = value\n",
    "\n",
    "    def get_font(self):\n",
    "        return self._font\n",
    "\n",
    "    def set_font(self, value):\n",
    "        self._font = value"
   ]
  },
  {
   "cell_type": "code",
   "execution_count": 13,
   "id": "66feb9cf-4d33-471f-b273-95f1bce8a744",
   "metadata": {},
   "outputs": [
    {
     "data": {
      "text/plain": [
       "'JetBrains Mono NL'"
      ]
     },
     "execution_count": 13,
     "metadata": {},
     "output_type": "execute_result"
    }
   ],
   "source": [
    "label = Label(\"Fruits\", \"JetBrains Mono NL\")\n",
    "label.get_text()\n",
    "\n",
    "\n",
    "label.set_text(\"Vegetables\")\n",
    "\n",
    "label.get_text()\n",
    "\n",
    "label.get_font()"
   ]
  },
  {
   "cell_type": "markdown",
   "id": "7981c811-e23c-4714-a685-c0dac9588066",
   "metadata": {},
   "source": [
    "Q5.What is method overriding in python? Write a python code to demonstrate method overriding."
   ]
  },
  {
   "cell_type": "markdown",
   "id": "4040138c-23c0-4fe9-9180-d67838915e5f",
   "metadata": {},
   "source": [
    "Method overriding in Python is when you have two methods with the same name that each perform different tasks. This is an important feature of inheritance in Python. "
   ]
  },
  {
   "cell_type": "code",
   "execution_count": 14,
   "id": "3ac28d99-98ba-4cc7-95f6-a6935b245c2b",
   "metadata": {},
   "outputs": [
    {
     "name": "stdout",
     "output_type": "stream",
     "text": [
      "Inside Child\n",
      "Inside Parent2\n"
     ]
    }
   ],
   "source": [
    "class Parent1():  \n",
    "    def show(self):  \n",
    "        print (\"Inside Parent1\")  \n",
    " \n",
    "class Parent2():  \n",
    "   \n",
    "    def display(self):  \n",
    "        print (\"Inside Parent2\")  \n",
    "\n",
    "class Child (Parent1, Parent2):  \n",
    "   \n",
    "    def show(self):  \n",
    "        print (\"Inside Child\")  \n",
    "obj = Child ()  \n",
    "obj. show ()  \n",
    "obj. display ()  "
   ]
  },
  {
   "cell_type": "code",
   "execution_count": null,
   "id": "5d275557-ac3f-4bad-acd6-ab76e9200096",
   "metadata": {},
   "outputs": [],
   "source": []
  }
 ],
 "metadata": {
  "kernelspec": {
   "display_name": "Python 3 (ipykernel)",
   "language": "python",
   "name": "python3"
  },
  "language_info": {
   "codemirror_mode": {
    "name": "ipython",
    "version": 3
   },
   "file_extension": ".py",
   "mimetype": "text/x-python",
   "name": "python",
   "nbconvert_exporter": "python",
   "pygments_lexer": "ipython3",
   "version": "3.10.8"
  }
 },
 "nbformat": 4,
 "nbformat_minor": 5
}
